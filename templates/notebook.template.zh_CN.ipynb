{
 "cells": [
  {
   "cell_type": "markdown",
   "metadata": {},
   "source": [
    "<div align=\"center\">\n",
    "  <h1>欢迎来到 SSCMA 在 Google Colab 的示例培训 🔥</h1>\n",
    "  <a href=\"https://sensecraftma.seeed.cc/\" target=\"_blank\"><img width=\"10%\" src=\"https://sensecraftma.seeed.cc/images/SSCMA-Hero.png\"></a>\n",
    "  <br>\n",
    "  <a href=\"https://colab.research.google.com/github/seeed-studio/sscma-model-zoo/tempalts/test.ipynb\"><img src=\"https://colab.research.google.com/assets/colab-badge.svg\" alt=\"在 Colab 中打开\"></a>\n",
    "  <br>\n",
    "</div>"
   ]
  },
  {
   "cell_type": "markdown",
   "metadata": {},
   "source": [
    "## 📕 介绍\n",
    "模型仓库是 SSCMA 的预训练模型集合，旨在帮助您快速找到所需的模型并直接使用。您还可以将其用作训练自己模型的参考。\n",
    "\n",
    "在此示例中，我们将展示如何使用 SSCMA 在 Google Colab 中训练模型。"
   ]
  },
  {
   "cell_type": "markdown",
   "metadata": {},
   "source": [
    "# 数字水表- Swift-YOLO\n",
    "\n",
    "**版本：** 1.0.0\n",
    "\n",
    "**类别：** 目标检测\n",
    "\n",
    "**算法：** [Swift-YOLO](https://github.com/Seeed-Studio/SSCMA/blob/main/configs/yolov5/yolov5_tiny_1xb16_300e_coco.py)\n",
    "\n",
    "**数据集：** [数字水表电力](https://universe.roboflow.com/seeed-studio-dbk14/digital-meter-water)\n",
    "\n",
    "**类别：** `0`、`1`、`2`、`3`、`4`、`5`、`6`、`7`、`8`、`9`、`-`\n",
    "\n",
    "![数字水表](https://files.seeedstudio.com/sscma/static/detect_meter.png)\n",
    "\n",
    "该模型是基于数字水表数据集训练的 Swift-YOLO 模型，可以检测水表上的数字。"
   ]
  },
  {
   "cell_type": "markdown",
   "metadata": {},
   "source": [
    "## 📝 准备工作"
   ]
  },
  {
   "cell_type": "markdown",
   "metadata": {},
   "source": [
    "### 配置 SSCMA\n",
    "克隆 [仓库](https://github.com/Seeed-Studio/SSCMA) 并安装依赖项。"
   ]
  },
  {
   "cell_type": "code",
   "execution_count": null,
   "metadata": {},
   "outputs": [],
   "source": [
    "!git clone https://github.com/Seeed-Studio/SSCMA.git   #克隆仓库\n",
    "%cd SSCMA\n",
    "!. ./scripts/setup_colab.sh"
   ]
  },
  {
   "cell_type": "markdown",
   "metadata": {},
   "source": [
    "检查 PyTorch 和 GPU。"
   ]
  },
  {
   "cell_type": "code",
   "execution_count": null,
   "metadata": {},
   "outputs": [],
   "source": [
    "import torch\n",
    "print(torch.__version__)\n",
    "print(torch.cuda.is_available())"
   ]
  },
  {
   "cell_type": "markdown",
   "metadata": {},
   "source": [
    "### 准备数据集。"
   ]
  },
  {
   "cell_type": "markdown",
   "metadata": {},
   "source": [
    "## 🚀 使用 SSCMA 训练模型\n",
    "所有的训练参数都在 `config.py` 文件中，您可以更改这些参数以训练自己的模型。\n",
    "\n",
    "下面是一些常见参数的解释。您还可以参考[文档](https://sensecraftma.seeed.cc/tutorials/config)获取更多详情。\n",
    "- `data_root` - 数据集路径。我们使用 `./datasets/test_dataset` 来训练一个使用测试数据集的模型\n",
    "- `epochs` - 训练周期数，我们使用 `50` 来缩短训练时间\n",
    "- `batch_size` - 批量大小，我们使用 `32` 来缩短训练时间\n",
    "- `lr` - 学习率，我们使用 `0.001` 来缩短训练时间\n",
    "- `load_from` - 预训练模型路径，我们使用 `None` 从头开始训练\n",
    "\n",
    "您可以使用 `--cfg-options` 参数覆盖 `config.py` 文件中的参数。\n",
    "```bash\n",
    "# 示例\n",
    "sscma.train config.py --cfg-options data_root=./datasets/test_dataset epochs=50 batch_size=32 lr=0.001 load_from=None\n",
    "```"
   ]
  },
  {
   "cell_type": "code",
   "execution_count": null,
   "metadata": {},
   "outputs": [],
   "source": [
    "!sscma.train https://github.com/Seeed-Studio/SSCMA/blob/main/configs/yolov5/yolov5_tiny_1xb16_300e_coco.py"
   ]
  },
  {
   "cell_type": "markdown",
   "metadata": {},
   "source": [
    "## 📦 导出模型\n",
    "训练完成后，您可以将模型导出为部署所需的格式。目前 SSCMA 支持导出到 ONNX 和 TensorFlow Lite 格式。\n",
    "\n",
    "```bash\n",
    "python3 tools/export.py \\\n",
    "    \"<CONFIG_FILE_PATH>\" \\\n",
    "    \"<CHECKPOINT_FILE_PATH>\" \n",
    "```"
   ]
  },
  {
   "cell_type": "code",
   "execution_count": null,
   "metadata": {},
   "outputs": [],
   "source": [
    "!sscma.export https://github.com/Seeed-Studio/SSCMA/blob/main/configs/yolov5/yolov5_tiny_1xb16_300e_coco.py"
   ]
  },
  {
   "cell_type": "markdown",
   "metadata": {},
   "source": [
    "## 📃 评估模型"
   ]
  },
  {
   "cell_type": "code",
   "execution_count": null,
   "metadata": {},
   "outputs": [],
   "source": [
    "!sscma.inference https://github.com/Seeed-Studio/SSCMA/blob/main/configs/yolov5/yolov5_tiny_1xb16_300e_coco.py"
   ]
  },
  {
   "cell_type": "markdown",
   "metadata": {},
   "source": [
    "## 感谢您尝试 SSCMA 🎉\n",
    "\n",
    "恭喜您完成本教程。如果您对更多应用场景或我们的项目感兴趣，请在 GitHub 上给 [SSCMA](https://github.com/Seeed-Studio/SSCMA) 加个星 ✨。\n",
    "\n",
    "如果您对本教程有任何问题，请随时[提交问题](https://github.com/Seeed-Studio/SSCMA/issues)。"
   ]
  }
 ],
 "metadata": {
  "kernelspec": {
   "display_name": "edgelab",
   "language": "python",
   "name": "python3"
  },
  "language_info": {
   "codemirror_mode": {
    "name": "ipython",
    "version": 3
   },
   "file_extension": ".py",
   "mimetype": "text/x-python",
   "name": "python",
   "nbconvert_exporter": "python",
   "pygments_lexer": "ipython3",
   "version": "3.8.17"
  }
 },
 "nbformat": 4,
 "nbformat_minor": 2
}