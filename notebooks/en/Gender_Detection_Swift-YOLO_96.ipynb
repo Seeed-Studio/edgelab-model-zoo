{
 "cells": [
  {
   "cell_type": "markdown",
   "metadata": {},
   "source": [
    "<div align=\"center\">\n",
    "  <h1>Welcom to SSCMA for Google Colab Training Example 🔥 </h1>\n",
    "  <a href=\"https://sensecraftma.seeed.cc/\" target=\"_blank\"><img width=\"20%\" src=\"https://sensecraftma.seeed.cc/images/SSCMA-Hero.png\"></a>\n",
    "</div>"
   ]
  },
  {
   "cell_type": "markdown",
   "metadata": {},
   "source": [
    "# Gender Detection - Swift-YOLO\n",
    "\n",
    "[![Open in Colab](https://colab.research.google.com/assets/colab-badge.svg)](https://colab.research.google.com/github/seeed-studio/sscma-model-zoo/blob/main/notebooks/en/Gender_Detection_Swift-YOLO_96.ipynb)\n",
    "\n",
    "**Version:** 1.0.0\n",
    "\n",
    "**Category:** Object Detection\n",
    "\n",
    "**Algorithm:** [Swift-YOLO](configs/yolov5/yolov5_tiny_1xb16_300e_coco.py)\n",
    "\n",
    "**Dataset:** [Face Gender](https://universe.roboflow.com/seeed-studio-esmjg/person-detection-eetev)\n",
    "\n",
    "**Class:** `Female`, `Male`\n",
    "\n",
    "![Gender Detection](https://files.seeedstudio.com/sscma/static/gender_cls.png)\n",
    "\n",
    "The model is a Swift-YOLO model trained on the face gender dataset. It can detect female and male faces in images.\n",
    "\n"
   ]
  },
  {
   "cell_type": "markdown",
   "metadata": {},
   "source": [
    "## ⚙️Prerequisites\n",
    "### Setup SSCMA\n",
    "Clone the [repository](https://github.com/Seeed-Studio/SSCMA) and install the dependencies."
   ]
  },
  {
   "cell_type": "code",
   "execution_count": null,
   "metadata": {},
   "outputs": [],
   "source": [
    "!git clone https://github.com/Seeed-Studio/SSCMA.git   #clone the repo\n",
    "%cd SSCMA\n",
    "!. ./scripts/setup_colab.sh"
   ]
  },
  {
   "cell_type": "markdown",
   "metadata": {},
   "source": [
    "### Download the pretrain model weights file"
   ]
  },
  {
   "cell_type": "code",
   "execution_count": null,
   "metadata": {},
   "outputs": [],
   "source": [
    "%mkdir -p Gender_Detection_Swift-YOLO_96 \n",
    "!wget -c https://files.seeedstudio.com/sscma/model_zoo/detection/models/gender/swift-yolo_tiny_gender_96_sha1_9d62ea47febade3f95cde715588b0e98377cd2f5.pth -O Gender_Detection_Swift-YOLO_96/pretrain.pth"
   ]
  },
  {
   "cell_type": "markdown",
   "metadata": {},
   "source": [
    "### Download the dataset"
   ]
  },
  {
   "cell_type": "code",
   "execution_count": null,
   "metadata": {},
   "outputs": [],
   "source": [
    "%mkdir -p Gender_Detection_Swift-YOLO_96/dataset \n",
    "!wget -c https://universe.roboflow.com/ds/JG3NSRibvH?key=lJLGEwG7Zr -O Gender_Detection_Swift-YOLO_96/dataset.zip \n",
    "!unzip -q Gender_Detection_Swift-YOLO_96/dataset.zip -d Gender_Detection_Swift-YOLO_96/dataset"
   ]
  },
  {
   "cell_type": "markdown",
   "metadata": {},
   "source": [
    "## 🚀Train a model with SSCMA\n",
    "All the training parameters are in the `config.py` file, you can change the parameters to train your own model.\n",
    "\n",
    "Below are explanations of some common parameters. You can also refer to the [documentation](https://sensecraftma.seeed.cc/tutorials/config) for more details.\n",
    "- `data_root` - the datasets path. \n",
    "- `epochs`- the train epochs. **we use 10 epochs as an example**.\n",
    "- `batch_size` - the batch size. \n",
    "- `height` - the image height.\n",
    "- `width` - the image width.\n",
    "- `load_from` - the pretrained model path.\n",
    "- `num_classes` - the number of classes.\n",
    "\n",
    "You can overwrite the parameters in the `config.py` file by using the `--cfg-options` argument. \n",
    "```bash\n",
    "# Example\n",
    "sscma.train config.py --cfg-options data_root=./datasets/test_dataset epochs=10\n",
    "```"
   ]
  },
  {
   "cell_type": "code",
   "execution_count": null,
   "metadata": {},
   "outputs": [],
   "source": [
    "!sscma.train configs/yolov5/yolov5_tiny_1xb16_300e_coco.py \\\n",
    "--cfg-options  \\\n",
    "    work_dir=Gender_Detection_Swift-YOLO_96 \\\n",
    "    num_classes=2 \\\n",
    "    epochs=10  \\\n",
    "    height=96 \\\n",
    "    width=96 \\\n",
    "    data_root=Gender_Detection_Swift-YOLO_96/dataset/ \\\n",
    "    load_from=Gender_Detection_Swift-YOLO_96/pretrain.pth"
   ]
  },
  {
   "cell_type": "markdown",
   "metadata": {},
   "source": [
    "## 📦Export the model\n",
    "After training, you can export the model to the format for deployment. SSCMA supports exporting to ONNX, and TensorFlow Lite at present.\n",
    "You can also refer to the [documentation](https://sensecraftma.seeed.cc/tutorials/export/overview) for more details.\n",
    "\n",
    "```bash\n",
    "python3 tools/export.py \\\n",
    "    \"<CONFIG_FILE_PATH>\" \\\n",
    "    \"<CHECKPOINT_FILE_PATH>\" \n",
    "```"
   ]
  },
  {
   "cell_type": "code",
   "execution_count": null,
   "metadata": {},
   "outputs": [],
   "source": [
    "import os\n",
    "with open('Gender_Detection_Swift-YOLO_96/last_checkpoint', 'r') as f:\n",
    "\tos.environ['CHECKPOINT_FILE_PATH'] = f.read()"
   ]
  },
  {
   "cell_type": "code",
   "execution_count": null,
   "metadata": {},
   "outputs": [],
   "source": [
    "!sscma.export configs/yolov5/yolov5_tiny_1xb16_300e_coco.py $CHECKPOINT_FILE_PATH --cfg-options  \\\n",
    "    work_dir=Gender_Detection_Swift-YOLO_96 \\\n",
    "    num_classes=2 \\\n",
    "    epochs=10  \\\n",
    "    height=96 \\\n",
    "    width=96 \\\n",
    "    data_root=Gender_Detection_Swift-YOLO_96/dataset/ \\\n",
    "    load_from=Gender_Detection_Swift-YOLO_96/pretrain.pth"
   ]
  },
  {
   "cell_type": "markdown",
   "metadata": {},
   "source": [
    "### 📝Evaluate the model\n",
    "After exporting the model, you can evaluate the model on the test dataset.\n",
    "You can also refer to the [documentation](https://sensecraftma.seeed.cc/tutorials/export/overview) for more details.\n",
    "\n",
    "\n",
    "```bash\n",
    "python3 tools/inference.py \\\n",
    "    \"<CONFIG_FILE_PATH>\" \\\n",
    "    \"<CHECKPOINT_FILE_PATH>\" \n",
    "```"
   ]
  },
  {
   "cell_type": "markdown",
   "metadata": {},
   "source": [
    "### Evaluate the PyTorch model"
   ]
  },
  {
   "cell_type": "code",
   "execution_count": null,
   "metadata": {},
   "outputs": [],
   "source": [
    "!sscma.inference configs/yolov5/yolov5_tiny_1xb16_300e_coco.py ${CHECKPOINT_FILE_PATH%.*}.pth \\\n",
    "--cfg-options  \\\n",
    "    work_dir=Gender_Detection_Swift-YOLO_96 \\\n",
    "    num_classes=2 \\\n",
    "    epochs=10  \\\n",
    "    height=96 \\\n",
    "    width=96 \\\n",
    "    data_root=Gender_Detection_Swift-YOLO_96/dataset/ \\\n",
    "    load_from=Gender_Detection_Swift-YOLO_96/pretrain.pth"
   ]
  },
  {
   "cell_type": "markdown",
   "metadata": {},
   "source": [
    "### Evaluate the ONNX model"
   ]
  },
  {
   "cell_type": "code",
   "execution_count": null,
   "metadata": {},
   "outputs": [],
   "source": [
    "!sscma.inference configs/yolov5/yolov5_tiny_1xb16_300e_coco.py ${CHECKPOINT_FILE_PATH%.*}_float32.onnx \\\n",
    "--cfg-options  \\\n",
    "    work_dir=Gender_Detection_Swift-YOLO_96 \\\n",
    "    num_classes=2 \\\n",
    "    epochs=10  \\\n",
    "    height=96 \\\n",
    "    width=96 \\\n",
    "    data_root=Gender_Detection_Swift-YOLO_96/dataset/ \\\n",
    "    load_from=Gender_Detection_Swift-YOLO_96/pretrain.pth"
   ]
  },
  {
   "cell_type": "markdown",
   "metadata": {},
   "source": [
    "### Evaluate the TFLite FLOAT32 model"
   ]
  },
  {
   "cell_type": "code",
   "execution_count": null,
   "metadata": {},
   "outputs": [],
   "source": [
    "!sscma.inference configs/yolov5/yolov5_tiny_1xb16_300e_coco.py ${CHECKPOINT_FILE_PATH%.*}_float32.tflite \\\n",
    "--cfg-options  \\\n",
    "    work_dir=Gender_Detection_Swift-YOLO_96 \\\n",
    "    num_classes=2 \\\n",
    "    epochs=10  \\\n",
    "    height=96 \\\n",
    "    width=96 \\\n",
    "    data_root=Gender_Detection_Swift-YOLO_96/dataset/ \\\n",
    "    load_from=Gender_Detection_Swift-YOLO_96/pretrain.pth"
   ]
  },
  {
   "cell_type": "markdown",
   "metadata": {},
   "source": [
    "### Evaluate the TFLite INT8 model"
   ]
  },
  {
   "cell_type": "code",
   "execution_count": null,
   "metadata": {},
   "outputs": [],
   "source": [
    "!sscma.inference configs/yolov5/yolov5_tiny_1xb16_300e_coco.py ${CHECKPOINT_FILE_PATH%.*}_int8.tflite \\\n",
    "--cfg-options  \\\n",
    "    work_dir=Gender_Detection_Swift-YOLO_96 \\\n",
    "    num_classes=2 \\\n",
    "    epochs=10  \\\n",
    "    height=96 \\\n",
    "    width=96 \\\n",
    "    data_root=Gender_Detection_Swift-YOLO_96/dataset/ \\\n",
    "    load_from=Gender_Detection_Swift-YOLO_96/pretrain.pth"
   ]
  },
  {
   "cell_type": "markdown",
   "metadata": {},
   "source": [
    "## 🤖 Deploy the model\n",
    "After model training, evaluation and export, you can deploy the model to your device. You can refer to [Documentation](https://sensecraftma.seeed.cc/deploy/overview) for more details."
   ]
  },
  {
   "cell_type": "code",
   "execution_count": null,
   "metadata": {},
   "outputs": [],
   "source": [
    "%ls -lh Gender_Detection_Swift-YOLO_96/"
   ]
  },
  {
   "cell_type": "markdown",
   "metadata": {},
   "source": [
    "### Thanks for Trying Out SSCMA 🎉\n",
    "\n",
    "Congratulations, you have completed this tutorial. If you are interested in more application scenarios or our projects, please feel free to give [SSCMA](https://github.com/Seeed-Studio/SSCMA) a star ✨ on GitHub.\n",
    "\n",
    "If you have any questions about this tutorial, please also feel free to [submit an issue](https://github.com/Seeed-Studio/SSCMA/issues)."
   ]
  }
 ],
 "metadata": {
  "kernelspec": {
   "display_name": "edgelab",
   "language": "python",
   "name": "python3"
  },
  "language_info": {
   "codemirror_mode": {
    "name": "ipython",
    "version": 3
   },
   "file_extension": ".py",
   "mimetype": "text/x-python",
   "name": "python",
   "nbconvert_exporter": "python",
   "pygments_lexer": "ipython3",
   "version": "3.8.17"
  }
 },
 "nbformat": 4,
 "nbformat_minor": 2
}
