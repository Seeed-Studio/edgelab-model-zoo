{
 "cells": [
  {
   "cell_type": "markdown",
   "metadata": {},
   "source": [
    "<div align=\"center\">\n",
    "  <h1>欢迎来到 SSCMA 在 Google Colab 的示例培训 🔥</h1>\n",
    "  <a href=\"https://sensecraftma.seeed.cc/\" target=\"_blank\"><img width=\"20%\" src=\"https://sensecraftma.seeed.cc/images/SSCMA-Hero.png\"></a>\n",
    "  <br>\n",
    "  <a href=\"https://colab.research.google.com/github/seeed-studio/sscma-model-zoo/tempalts/test.ipynb\"><img src=\"https://colab.research.google.com/assets/colab-badge.svg\" alt=\"在 Colab 中打开\"></a>\n",
    "  <br>\n",
    "</div>"
   ]
  },
  {
   "cell_type": "markdown",
   "metadata": {},
   "source": [
    "## 📕 MNIST Classification - MobileNetV2(0.5) Rep\n",
    "\n",
    "**版本:** 1.0.0\n",
    "\n",
    "**类别:** Image Classification\n",
    "\n",
    "**算法:** [MobileNetV2(0.5) Rep](https://raw.githubusercontent.com/Seeed-Studio/SSCMA/main/configs/classification/mobnetv2_0.35_rep_1bx16_300e_cifar10.py)\n",
    "\n",
    "**数据集:** [MNIST](http://yann.lecun.com/exdb/mnist/)\n",
    "\n",
    "**Class:** `0`, `1`, `2`, `3`, `4`, `5`, `6`, `7`, `8`, `9`\n",
    "\n",
    "![MNIST Classification](https://files.seeedstudio.com/sscma/static/mnist_cls.png)\n",
    "\n",
    "The model is a vision model designed for MNIST dataset\n",
    "\n"
   ]
  },
  {
   "cell_type": "markdown",
   "metadata": {},
   "source": [
    "## ⚙️准备工作\n",
    "克隆 [仓库](https://github.com/Seeed-Studio/SSCMA) 并安装依赖项。"
   ]
  },
  {
   "cell_type": "code",
   "execution_count": null,
   "metadata": {},
   "outputs": [],
   "source": [
    "!git clone https://github.com/Seeed-Studio/SSCMA.git   #克隆仓库\n",
    "%cd SSCMA\n",
    "!. ./scripts/setup_colab.sh"
   ]
  },
  {
   "cell_type": "markdown",
   "metadata": {},
   "source": [
    "## 🚀使用 SSCMA 训练模型\n",
    "所有的训练参数都在 `config.py` 文件中，您可以更改这些参数以训练自己的模型。\n",
    "\n",
    "下面是一些常见参数的解释。您还可以参考[文档](https://sensecraftma.seeed.cc/tutorials/config)获取更多详情。\n",
    "- `data_root` - 数据集路径。\n",
    "- `epochs` - 训练周期数。\n",
    "- `load_from` - 预训练模型路径。\n",
    "- `num_classes` - 数据集类别数。\n",
    "\n",
    "您可以使用 `--cfg-options` 参数覆盖 `config.py` 文件中的参数。\n",
    "```bash\n",
    "# 示例\n",
    "sscma.train config.py --cfg-options data_root=./datasets/test_dataset epochs=50\n",
    "```"
   ]
  },
  {
   "cell_type": "code",
   "execution_count": null,
   "metadata": {},
   "outputs": [],
   "source": [
    "!sscma.train https://raw.githubusercontent.com/Seeed-Studio/SSCMA/main/configs/classification/mobnetv2_0.35_rep_1bx16_300e_cifar10.py "
   ]
  },
  {
   "cell_type": "markdown",
   "metadata": {},
   "source": [
    "## 📦导出模型\n",
    "训练完成后，您可以将模型导出为部署所需的格式。目前 SSCMA 支持导出到 ONNX 和 TensorFlow Lite 格式。\n",
    "您还可以参考[文档](https://sensecraftma.seeed.cc/tutorials/export/overview)获取更多详情。\n",
    "```bash\n",
    "python3 tools/export.py \\\n",
    "    \"<CONFIG_FILE_PATH>\" \\\n",
    "    \"<CHECKPOINT_FILE_PATH>\" \n",
    "```"
   ]
  },
  {
   "cell_type": "code",
   "execution_count": null,
   "metadata": {},
   "outputs": [],
   "source": [
    "!sscma.export https://raw.githubusercontent.com/Seeed-Studio/SSCMA/main/configs/classification/mobnetv2_0.35_rep_1bx16_300e_cifar10.py"
   ]
  },
  {
   "cell_type": "markdown",
   "metadata": {},
   "source": [
    "## 📝评估模型\n",
    "导出模型后，您可以使用 `inference.py` 脚本评估模型的性能。\n",
    "\n",
    "```bash\n",
    "python3 tools/inference.py \\\n",
    "    \"<CONFIG_FILE_PATH>\" \\\n",
    "    \"<CHECKPOINT_FILE_PATH>\" \n",
    "```"
   ]
  },
  {
   "cell_type": "code",
   "execution_count": null,
   "metadata": {},
   "outputs": [],
   "source": [
    "!sscma.inference https://raw.githubusercontent.com/Seeed-Studio/SSCMA/main/configs/classification/mobnetv2_0.35_rep_1bx16_300e_cifar10.py"
   ]
  },
  {
   "cell_type": "markdown",
   "metadata": {},
   "source": [
    "## 感谢您尝试 SSCMA 🎉\n",
    "\n",
    "恭喜您完成本教程。如果您对更多应用场景或我们的项目感兴趣，请在 GitHub 上给 [SSCMA](https://github.com/Seeed-Studio/SSCMA) 加个星 ✨。\n",
    "\n",
    "如果您对本教程有任何问题，请随时[提交问题](https://github.com/Seeed-Studio/SSCMA/issues)。"
   ]
  }
 ],
 "metadata": {
  "kernelspec": {
   "display_name": "edgelab",
   "language": "python",
   "name": "python3"
  },
  "language_info": {
   "codemirror_mode": {
    "name": "ipython",
    "version": 3
   },
   "file_extension": ".py",
   "mimetype": "text/x-python",
   "name": "python",
   "nbconvert_exporter": "python",
   "pygments_lexer": "ipython3",
   "version": "3.10.12"
  }
 },
 "nbformat": 4,
 "nbformat_minor": 2
}
