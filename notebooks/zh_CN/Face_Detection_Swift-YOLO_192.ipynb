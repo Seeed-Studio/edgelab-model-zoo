{
 "cells": [
  {
   "cell_type": "markdown",
   "metadata": {},
   "source": [
    "<div align=\"center\">\n",
    "  <h1>欢迎来到 SSCMA 在 Google Colab 的示例培训 🔥</h1>\n",
    "  <a href=\"https://sensecraftma.seeed.cc/\" target=\"_blank\"><img width=\"20%\" src=\"https://sensecraftma.seeed.cc/images/SSCMA-Hero.png\"></a>\n",
    "</div>"
   ]
  },
  {
   "cell_type": "markdown",
   "metadata": {},
   "source": [
    "# Face Detection - Swift-YOLO\n",
    "\n",
    "[![Open in Colab](https://colab.research.google.com/assets/colab-badge.svg)](https://colab.research.google.com/github/seeed-studio/sscma-model-zoo/blob/refactor-auto-generate/notebooks/en/Face_Detection_Swift-YOLO_192.ipynb)\n",
    "\n",
    "**版本:** 1.0.0\n",
    "\n",
    "**任务:** Object Detection\n",
    "\n",
    "**算法:** [Swift-YOLO](configs/yolov5/yolov5_tiny_1xb16_300e_coco.py)\n",
    "\n",
    "**数据集:** [Face](https://universe.roboflow.com/detection-kgpie/face-detection-j0igc)\n",
    "\n",
    "**类别:** `Face`\n",
    "\n",
    "![Face Detection](https://files.seeedstudio.com/sscma/static/detection_face.png)\n",
    "\n",
    "The model is a Swift-YOLO model trained on the Face dataset. The model can detect faces in images.\n",
    "\n"
   ]
  },
  {
   "cell_type": "markdown",
   "metadata": {},
   "source": [
    "## ⚙️准备工作\n",
    "克隆 [仓库](https://github.com/Seeed-Studio/SSCMA) 并安装依赖项。\n",
    "### 配置SSCMA"
   ]
  },
  {
   "cell_type": "code",
   "execution_count": null,
   "metadata": {},
   "outputs": [],
   "source": []
  },
  {
   "cell_type": "code",
   "execution_count": null,
   "metadata": {},
   "outputs": [],
   "source": [
    "!git clone https://github.com/Seeed-Studio/SSCMA.git   #克隆仓库\n",
    "%cd SSCMA\n",
    "!. ./scripts/setup_colab.sh"
   ]
  },
  {
   "cell_type": "markdown",
   "metadata": {},
   "source": [
    "%mkdir -p Face_Detection_Swift-YOLO_192 \n",
    "!wget -c https://files.seeedstudio.com/sscma/model_zoo/detection/models/yolov5/Face/yolov5_tiny_1xb16_300e_coco_sha1_f2a3f61a271c467748e26f0fd6fdd82d740512ff.pth -O Face_Detection_Swift-YOLO_192/pretrain.pth"
   ]
  },
  {
   "cell_type": "code",
   "execution_count": null,
   "metadata": {},
   "outputs": [],
   "source": [
    "{{download_pretrained_model}}"
   ]
  },
  {
   "cell_type": "markdown",
   "metadata": {},
   "source": [
    "%mkdir -p Face_Detection_Swift-YOLO_192/dataset \n",
    "!wget -c https://universe.roboflow.com/ds/hK8PvFlIZ5?key=LxpaoUhp5i -O Face_Detection_Swift-YOLO_192/dataset.zip \n",
    "!unzip -q Face_Detection_Swift-YOLO_192/dataset.zip -d Face_Detection_Swift-YOLO_192/dataset"
   ]
  },
  {
   "cell_type": "code",
   "execution_count": null,
   "metadata": {},
   "outputs": [],
   "source": [
    "{{download_dataset}}"
   ]
  },
  {
   "cell_type": "markdown",
   "metadata": {},
   "source": [
    "!sscma.train configs/yolov5/yolov5_tiny_1xb16_300e_coco.py \\\n",
    "--cfg-options  \\\n",
    "    work_dir=Face_Detection_Swift-YOLO_192 \\\n",
    "    num_classes=1 \\\n",
    "    epochs=10  \\\n",
    "    height=192 \\\n",
    "    width=192 \\\n",
    "    data_root=Face_Detection_Swift-YOLO_192/dataset/ \\\n",
    "    load_from=Face_Detection_Swift-YOLO_192/pretrain.pth"
   ]
  },
  {
   "cell_type": "code",
   "execution_count": null,
   "metadata": {},
   "outputs": [],
   "source": [
    "{{train_model}}"
   ]
  },
  {
   "cell_type": "markdown",
   "metadata": {},
   "source": [
    "import os\n",
    "with open('Face_Detection_Swift-YOLO_192/last_checkpoint', 'r') as f:\n",
    "\tos.environ['CHECKPOINT_FILE_PATH'] = f.read()"
   ]
  },
  {
   "cell_type": "code",
   "execution_count": null,
   "metadata": {},
   "outputs": [],
   "source": [
    "!sscma.export configs/yolov5/yolov5_tiny_1xb16_300e_coco.py $CHECKPOINT_FILE_PATH --cfg-options  \\\n",
    "    work_dir=Face_Detection_Swift-YOLO_192 \\\n",
    "    num_classes=1 \\\n",
    "    epochs=10  \\\n",
    "    height=192 \\\n",
    "    width=192 \\\n",
    "    data_root=Face_Detection_Swift-YOLO_192/dataset/ \\\n",
    "    load_from=Face_Detection_Swift-YOLO_192/pretrain.pth"
   ]
  },
  {
   "cell_type": "code",
   "execution_count": null,
   "metadata": {},
   "outputs": [],
   "source": [
    "{{export_model}}"
   ]
  },
  {
   "cell_type": "markdown",
   "metadata": {},
   "source": [
    "## 📝评估模型\n",
    "导出模型后，您可以使用 `inference.py` 脚本评估模型的性能。\n",
    "\n",
    "```bash\n",
    "python3 tools/inference.py \\\n",
    "    \"<CONFIG_FILE_PATH>\" \\\n",
    "    \"<CHECKPOINT_FILE_PATH>\" \n",
    "```"
   ]
  },
  {
   "cell_type": "markdown",
   "metadata": {},
   "source": [
    "!sscma.inference configs/yolov5/yolov5_tiny_1xb16_300e_coco.py ${CHECKPOINT_FILE_PATH%.*}.pth \\\n",
    "--cfg-options  \\\n",
    "    work_dir=Face_Detection_Swift-YOLO_192 \\\n",
    "    num_classes=1 \\\n",
    "    epochs=10  \\\n",
    "    height=192 \\\n",
    "    width=192 \\\n",
    "    data_root=Face_Detection_Swift-YOLO_192/dataset/ \\\n",
    "    load_from=Face_Detection_Swift-YOLO_192/pretrain.pth"
   ]
  },
  {
   "cell_type": "code",
   "execution_count": null,
   "metadata": {},
   "outputs": [],
   "source": [
    "{{eval_model_pth}}"
   ]
  },
  {
   "cell_type": "markdown",
   "metadata": {},
   "source": [
    "!sscma.inference configs/yolov5/yolov5_tiny_1xb16_300e_coco.py ${CHECKPOINT_FILE_PATH%.*}_float32.onnx \\\n",
    "--cfg-options  \\\n",
    "    work_dir=Face_Detection_Swift-YOLO_192 \\\n",
    "    num_classes=1 \\\n",
    "    epochs=10  \\\n",
    "    height=192 \\\n",
    "    width=192 \\\n",
    "    data_root=Face_Detection_Swift-YOLO_192/dataset/ \\\n",
    "    load_from=Face_Detection_Swift-YOLO_192/pretrain.pth"
   ]
  },
  {
   "cell_type": "code",
   "execution_count": null,
   "metadata": {},
   "outputs": [],
   "source": [
    "{{eval_model_tflite_flot32}}"
   ]
  },
  {
   "cell_type": "markdown",
   "metadata": {},
   "source": [
    "!sscma.inference configs/yolov5/yolov5_tiny_1xb16_300e_coco.py ${CHECKPOINT_FILE_PATH%.*}_float32.tflite \\\n",
    "--cfg-options  \\\n",
    "    work_dir=Face_Detection_Swift-YOLO_192 \\\n",
    "    num_classes=1 \\\n",
    "    epochs=10  \\\n",
    "    height=192 \\\n",
    "    width=192 \\\n",
    "    data_root=Face_Detection_Swift-YOLO_192/dataset/ \\\n",
    "    load_from=Face_Detection_Swift-YOLO_192/pretrain.pth"
   ]
  },
  {
   "cell_type": "code",
   "execution_count": null,
   "metadata": {},
   "outputs": [],
   "source": [
    "!sscma.inference config.py last_float32.tflte"
   ]
  },
  {
   "cell_type": "markdown",
   "metadata": {},
   "source": [
    "!sscma.inference configs/yolov5/yolov5_tiny_1xb16_300e_coco.py ${CHECKPOINT_FILE_PATH%.*}_int8.tflite \\\n",
    "--cfg-options  \\\n",
    "    work_dir=Face_Detection_Swift-YOLO_192 \\\n",
    "    num_classes=1 \\\n",
    "    epochs=10  \\\n",
    "    height=192 \\\n",
    "    width=192 \\\n",
    "    data_root=Face_Detection_Swift-YOLO_192/dataset/ \\\n",
    "    load_from=Face_Detection_Swift-YOLO_192/pretrain.pth"
   ]
  },
  {
   "cell_type": "code",
   "execution_count": null,
   "metadata": {},
   "outputs": [],
   "source": [
    "{{eval_model_tflite_int8}}"
   ]
  },
  {
   "cell_type": "markdown",
   "metadata": {},
   "source": [
    "%ls -lh Face_Detection_Swift-YOLO_192/"
   ]
  },
  {
   "cell_type": "code",
   "execution_count": null,
   "metadata": {},
   "outputs": [],
   "source": [
    "{{show_result}}"
   ]
  },
  {
   "cell_type": "markdown",
   "metadata": {},
   "source": [
    "## 感谢您尝试 SSCMA 🎉\n",
    "\n",
    "恭喜您完成本教程。如果您对更多应用场景或我们的项目感兴趣，请在 GitHub 上给 [SSCMA](https://github.com/Seeed-Studio/SSCMA) 加个星 ✨。\n",
    "\n",
    "如果您对本教程有任何问题，请随时[提交问题](https://github.com/Seeed-Studio/SSCMA/issues)。"
   ]
  }
 ],
 "metadata": {
  "kernelspec": {
   "display_name": "edgelab",
   "language": "python",
   "name": "python3"
  },
  "language_info": {
   "codemirror_mode": {
    "name": "ipython",
    "version": 3
   },
   "file_extension": ".py",
   "mimetype": "text/x-python",
   "name": "python",
   "nbconvert_exporter": "python",
   "pygments_lexer": "ipython3",
   "version": "3.10.12"
  }
 },
 "nbformat": 4,
 "nbformat_minor": 2
}
